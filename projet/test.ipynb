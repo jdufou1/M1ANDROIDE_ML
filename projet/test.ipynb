{
 "cells": [
  {
   "cell_type": "code",
   "execution_count": 1,
   "id": "71ad1933-fed0-4b46-8940-9678605a0a5d",
   "metadata": {},
   "outputs": [],
   "source": [
    "import numpy as np"
   ]
  },
  {
   "cell_type": "code",
   "execution_count": 2,
   "id": "b4084f5a-76e4-4ce8-b21e-1288ff09b8d3",
   "metadata": {},
   "outputs": [],
   "source": [
    "matrix1 = [[1,2,3,4],[1,2,3,4]]"
   ]
  },
  {
   "cell_type": "code",
   "execution_count": 3,
   "id": "0a4645ec-e5ce-4b39-b6c8-ba43e7076a45",
   "metadata": {},
   "outputs": [],
   "source": [
    "matrix2 = [[1,2],[3,4],[1,2],[3,4]]"
   ]
  },
  {
   "cell_type": "code",
   "execution_count": 4,
   "id": "10dc4bbf-9d65-4ce8-9a25-bec438fff543",
   "metadata": {},
   "outputs": [],
   "source": [
    "matrix1 = np.array(matrix1)"
   ]
  },
  {
   "cell_type": "code",
   "execution_count": 5,
   "id": "5515fccf-5c0d-4449-b9d9-78532f85880e",
   "metadata": {},
   "outputs": [],
   "source": [
    "matrix2 = np.array(matrix2)"
   ]
  },
  {
   "cell_type": "code",
   "execution_count": 6,
   "id": "b5382bb3-d1e8-448f-9597-430bcb91ae8c",
   "metadata": {},
   "outputs": [
    {
     "name": "stdout",
     "output_type": "stream",
     "text": [
      "(2, 4) (4, 2)\n"
     ]
    }
   ],
   "source": [
    "print(matrix1.shape , matrix2.shape)"
   ]
  },
  {
   "cell_type": "code",
   "execution_count": 7,
   "id": "e30ec3a4-d158-4301-935d-4fe789ad02eb",
   "metadata": {},
   "outputs": [],
   "source": [
    "result = np.dot(matrix1,matrix2)"
   ]
  },
  {
   "cell_type": "code",
   "execution_count": 8,
   "id": "859e2be5-dd74-4048-8960-d578fe8a8902",
   "metadata": {},
   "outputs": [
    {
     "name": "stdout",
     "output_type": "stream",
     "text": [
      "(2, 2)\n"
     ]
    }
   ],
   "source": [
    "print(result.shape)"
   ]
  },
  {
   "cell_type": "code",
   "execution_count": 11,
   "id": "46157616-8288-458f-9623-fe11f136b8de",
   "metadata": {},
   "outputs": [
    {
     "name": "stdout",
     "output_type": "stream",
     "text": [
      "[[ 3  6  9 12]\n",
      " [ 7 14 21 28]\n",
      " [ 3  6  9 12]\n",
      " [ 7 14 21 28]]\n"
     ]
    }
   ],
   "source": [
    "print(matrix2.dot(matrix1))"
   ]
  },
  {
   "cell_type": "code",
   "execution_count": 47,
   "id": "26fa70e7-c2c4-457c-84a5-f91d3927ed89",
   "metadata": {},
   "outputs": [],
   "source": [
    "parameters = np.random.rand(3,3,32)\n",
    "X = np.random.rand(15,256,3)\n",
    "stride = 1"
   ]
  },
  {
   "cell_type": "code",
   "execution_count": 48,
   "id": "be30c60a-9782-496b-9d01-250e972fddf9",
   "metadata": {},
   "outputs": [
    {
     "name": "stdout",
     "output_type": "stream",
     "text": [
      "(3, 3, 32)\n",
      "(3, 3, 32)\n",
      "(15, 256, 3)\n"
     ]
    }
   ],
   "source": [
    "print(parameters.shape)\n",
    "print(parameters.transpose(1,0,2).shape)\n",
    "print(X.shape)"
   ]
  },
  {
   "cell_type": "code",
   "execution_count": 49,
   "id": "a214be43-93c0-4868-b132-8ff7110c40c6",
   "metadata": {},
   "outputs": [
    {
     "ename": "ValueError",
     "evalue": "shapes (3,3,32) and (15,256,3) not aligned: 32 (dim 2) != 256 (dim 1)",
     "output_type": "error",
     "traceback": [
      "\u001b[0;31m---------------------------------------------------------------------------\u001b[0m",
      "\u001b[0;31mValueError\u001b[0m                                Traceback (most recent call last)",
      "\u001b[0;32m/tmp/ipykernel_4424/3815511816.py\u001b[0m in \u001b[0;36m<module>\u001b[0;34m\u001b[0m\n\u001b[0;32m----> 1\u001b[0;31m \u001b[0mnp\u001b[0m\u001b[0;34m.\u001b[0m\u001b[0mdot\u001b[0m\u001b[0;34m(\u001b[0m\u001b[0mparameters\u001b[0m \u001b[0;34m,\u001b[0m \u001b[0mX\u001b[0m\u001b[0;34m)\u001b[0m\u001b[0;34m\u001b[0m\u001b[0;34m\u001b[0m\u001b[0m\n\u001b[0m",
      "\u001b[0;32m~/.local/lib/python3.8/site-packages/numpy/core/overrides.py\u001b[0m in \u001b[0;36mdot\u001b[0;34m(*args, **kwargs)\u001b[0m\n",
      "\u001b[0;31mValueError\u001b[0m: shapes (3,3,32) and (15,256,3) not aligned: 32 (dim 2) != 256 (dim 1)"
     ]
    }
   ],
   "source": [
    "np.dot(parameters , X)"
   ]
  },
  {
   "cell_type": "code",
   "execution_count": 50,
   "id": "7b9896a7-e67d-4c11-90e3-211431c99bb7",
   "metadata": {},
   "outputs": [],
   "source": [
    "res = []\n",
    "for filtre_index in range(parameters.shape[2]) :\n",
    "    res.append(np.dot(X[0] , parameters[:,:,filtre_index])) \n",
    "#print(np.array(res).shape)\n"
   ]
  },
  {
   "cell_type": "code",
   "execution_count": 51,
   "id": "2be2b74f-1c3f-44fb-bfa5-5e8f70a6063f",
   "metadata": {},
   "outputs": [],
   "source": [
    "size = ((X.shape[1] - 3) // stride) + 1"
   ]
  },
  {
   "cell_type": "code",
   "execution_count": 52,
   "id": "f46af8d7-b7b7-49b4-93e7-5da789d200e2",
   "metadata": {},
   "outputs": [
    {
     "name": "stdout",
     "output_type": "stream",
     "text": [
      "254\n"
     ]
    }
   ],
   "source": [
    "print(size)"
   ]
  },
  {
   "cell_type": "code",
   "execution_count": 54,
   "id": "6c48466d-2ee5-4327-855d-a2223b1eb59c",
   "metadata": {},
   "outputs": [
    {
     "name": "stdout",
     "output_type": "stream",
     "text": [
      "(254, 15, 32)\n",
      "(15, 254, 32)\n"
     ]
    }
   ],
   "source": [
    "k_size = 3\n",
    "output = np.array([ X[ : , i : i + k_size, :].reshape(X.shape[0],-1) @ parameters.reshape(-1,parameters.shape[2]) for i in range(0,size,stride)])\n",
    "print(output.shape)\n",
    "print(output.transpose(1,0,2).shape)"
   ]
  },
  {
   "cell_type": "code",
   "execution_count": 40,
   "id": "8d23ac74-c29f-4861-b372-cdb3a04e6a53",
   "metadata": {},
   "outputs": [
    {
     "data": {
      "text/plain": [
       "(9, 32)"
      ]
     },
     "execution_count": 40,
     "metadata": {},
     "output_type": "execute_result"
    }
   ],
   "source": [
    "parameters.reshape(-1, 32).shape"
   ]
  },
  {
   "cell_type": "code",
   "execution_count": 41,
   "id": "280a4dc9-d234-4b91-b32c-65cc8a337612",
   "metadata": {},
   "outputs": [
    {
     "data": {
      "text/plain": [
       "(3, 96)"
      ]
     },
     "execution_count": 41,
     "metadata": {},
     "output_type": "execute_result"
    }
   ],
   "source": [
    "parameters.reshape(3, -1).shape"
   ]
  },
  {
   "cell_type": "code",
   "execution_count": 58,
   "id": "62727f0b-3614-400c-a332-d53ae9863778",
   "metadata": {},
   "outputs": [
    {
     "name": "stdout",
     "output_type": "stream",
     "text": [
      "(15, 254, 3)\n"
     ]
    }
   ],
   "source": [
    "output = np.array([ np.max(X[ : , i : i + k_size, :],axis=1) for i in range(0,size,stride)])\n",
    "print(output.transpose(1,0,2).shape)"
   ]
  },
  {
   "cell_type": "code",
   "execution_count": null,
   "id": "1b20ec9a-ffb3-4ae5-bdc4-ef2ee34ded77",
   "metadata": {},
   "outputs": [],
   "source": []
  }
 ],
 "metadata": {
  "kernelspec": {
   "display_name": "Python 3 (ipykernel)",
   "language": "python",
   "name": "python3"
  },
  "language_info": {
   "codemirror_mode": {
    "name": "ipython",
    "version": 3
   },
   "file_extension": ".py",
   "mimetype": "text/x-python",
   "name": "python",
   "nbconvert_exporter": "python",
   "pygments_lexer": "ipython3",
   "version": "3.8.10"
  }
 },
 "nbformat": 4,
 "nbformat_minor": 5
}
